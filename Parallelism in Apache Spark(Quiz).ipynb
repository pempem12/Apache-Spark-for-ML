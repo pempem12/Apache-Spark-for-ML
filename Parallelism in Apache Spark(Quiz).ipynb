{
    "cells": [
        {
            "metadata": {},
            "cell_type": "code",
            "source": "rdd = sc.parallelize([34,1,23,4,3,3,12,4,3,1])",
            "execution_count": 33,
            "outputs": []
        },
        {
            "metadata": {},
            "cell_type": "code",
            "source": "n = rdd.count()\nsum = rdd.sum()\nmean = sum/n\n\nprint(mean)",
            "execution_count": 34,
            "outputs": [
                {
                    "output_type": "stream",
                    "text": "8.8\n",
                    "name": "stdout"
                }
            ]
        },
        {
            "metadata": {},
            "cell_type": "code",
            "source": "#This finds the median of a list \nsortedRDD = rdd.sortBy(lambda x : x).zipWithIndex().map(lambda t:(t[1],t[0]))\nn = sortedRDD.count()\nif n%2 == 0:\n    print(\"The RDD is even\")\n    index1 = (n/2)-1\n    index2 = (n/2)\n    median = (sortedRDD.lookup(index1)[0] + sortedRDD.lookup(index2)[0]) / 2\n    print(median)\nelse:\n    print(\"The RDD is odd\")\n    index = (n-1)/2\n    median = sortedRDD.lookup(index)[0]\n    print(median)",
            "execution_count": 35,
            "outputs": [
                {
                    "output_type": "stream",
                    "text": "The RDD is even\n3.5\n",
                    "name": "stdout"
                }
            ]
        },
        {
            "metadata": {},
            "cell_type": "code",
            "source": "from math import sqrt\nSD = sqrt(rdd.map(lambda x: pow(x-mean,2)).sum()/n)\nprint(SD)",
            "execution_count": 40,
            "outputs": [
                {
                    "output_type": "stream",
                    "text": "10.562196741208714\n",
                    "name": "stdout"
                }
            ]
        },
        {
            "metadata": {},
            "cell_type": "code",
            "source": "kurtosis = (rdd.map(lambda x: pow(x-mean,4)/pow(SD,4)).sum())/n\nprint(kurtosis)",
            "execution_count": 41,
            "outputs": [
                {
                    "output_type": "stream",
                    "text": "3.663124005193276\n",
                    "name": "stdout"
                }
            ]
        },
        {
            "metadata": {},
            "cell_type": "code",
            "source": "list1 = sc.parallelize([1,2,3,4,5,6,7,8,9,10])\nlist2 = sc.parallelize([7,6,5,4,5,6,7,8,9,10])\n#7,6,5,4,5,6,7,8,9,10\n\nmean1 = list1.sum()/list1.count()\nmean2 = list2.sum()/list2.count()\n\nrdd12 = list1.zip(list2)\nrdd12.collect()\n\ncov12 = rdd12.map(lambda l : (l[0]-mean1)*(l[1]-mean2)).sum()/rdd12.count()\ncov12",
            "execution_count": 55,
            "outputs": [
                {
                    "output_type": "execute_result",
                    "execution_count": 55,
                    "data": {
                        "text/plain": "3.65"
                    },
                    "metadata": {}
                }
            ]
        },
        {
            "metadata": {},
            "cell_type": "code",
            "source": "n = rdd12.count()\nsd1 = sqrt(list1.map(lambda x: pow(x-mean1,2)).sum()/n)\nsd2 = sqrt(list2.map(lambda x: pow(x-mean2,2)).sum()/n)\n\ncorr12 = cov12/(sd1*sd2)\ncorr12",
            "execution_count": 56,
            "outputs": [
                {
                    "output_type": "execute_result",
                    "execution_count": 56,
                    "data": {
                        "text/plain": "0.709272912083725"
                    },
                    "metadata": {}
                }
            ]
        },
        {
            "metadata": {},
            "cell_type": "code",
            "source": "",
            "execution_count": null,
            "outputs": []
        }
    ],
    "metadata": {
        "kernelspec": {
            "name": "python36",
            "display_name": "Python 3.6 with Spark",
            "language": "python3"
        },
        "language_info": {
            "mimetype": "text/x-python",
            "nbconvert_exporter": "python",
            "name": "python",
            "pygments_lexer": "ipython3",
            "version": "3.6.8",
            "file_extension": ".py",
            "codemirror_mode": {
                "version": 3,
                "name": "ipython"
            }
        }
    },
    "nbformat": 4,
    "nbformat_minor": 1
}